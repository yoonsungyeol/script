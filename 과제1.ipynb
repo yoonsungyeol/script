{
 "cells": [
  {
   "cell_type": "markdown",
   "metadata": {},
   "source": [
    "## 1번문제"
   ]
  },
  {
   "cell_type": "markdown",
   "metadata": {},
   "source": [
    "  - a=\"Hello Python\" 문자열을 Slicing과 연결 연산자 (+)를 사용하여 \"Python Hello\"로 변경하시오. [주의] a 변수 자체에 \"Python Hello\" 문자열이 저장되어야 함"
   ]
  },
  {
   "cell_type": "code",
   "execution_count": 13,
   "metadata": {},
   "outputs": [
    {
     "name": "stdout",
     "output_type": "stream",
     "text": [
      "Python Hello\n"
     ]
    }
   ],
   "source": [
    "a =\"Hello Python\"   #a에 문자열 저장\n",
    "a = a[6:13]+\" \"+ a[0:5] #list로 앞뒤 위치 바꿈\n",
    "print(a)  #a 출력"
   ]
  },
  {
   "cell_type": "markdown",
   "metadata": {},
   "source": [
    "    <설명> 리스트를 이용하여 뒤의 'Python'을 먼저 출력하고 앞에 있는 'Hello'를 그 다음 으로 출력한다."
   ]
  },
  {
   "cell_type": "markdown",
   "metadata": {},
   "source": [
    "## 2번문제"
   ]
  },
  {
   "cell_type": "markdown",
   "metadata": {},
   "source": [
    " - b=\"Hello Python World\" 문자열을 Slicing과 연결 연산자 (+)를 사용하여 \"World Python Hello\"로 변경하시오. [주의] b 변수 자체에 \"Python Hello\" 문자열이 저장되어야 함"
   ]
  },
  {
   "cell_type": "code",
   "execution_count": 12,
   "metadata": {},
   "outputs": [
    {
     "name": "stdout",
     "output_type": "stream",
     "text": [
      "Python Hello\n",
      "World Python Hello\n"
     ]
    }
   ],
   "source": [
    "b= \"Hello Python World\" #b에 문자열 저장\n",
    "b = b[6:13] + b[0:5]    #b에서 'Python과 'Hello'를 끌어와 다시 b에 저장\n",
    "print(b)                #b 출력\n",
    "print(\"World\" + \" \"+ b)  #'World'와 b를 연결하여 출력"
   ]
  },
  {
   "cell_type": "markdown",
   "metadata": {},
   "source": [
    "    <설명>\n",
    "     리스트를 이용하여 b의 'Python과 'Hello'를 가져와서 다시 b에 저장하고 b와 'World'를 연결하여 출력한다."
   ]
  },
  {
   "cell_type": "markdown",
   "metadata": {},
   "source": [
    "## 3번문제"
   ]
  },
  {
   "cell_type": "markdown",
   "metadata": {},
   "source": [
    "  - c = \"Hello\"를 \"olleH\"로 변경하시오. [주의] c 변수 자체에 \"olleH\" 문자열이 저장되어야 함 "
   ]
  },
  {
   "cell_type": "code",
   "execution_count": 40,
   "metadata": {},
   "outputs": [
    {
     "name": "stdout",
     "output_type": "stream",
     "text": [
      "olleH\n"
     ]
    }
   ],
   "source": [
    "c=\"Hello\"   #c에 문자열 저장\n",
    "c=c[4::-1]  # 'o'를 시작으로 해서 'H'까지 거꾸로 저장한다.\n",
    "print(c)    # c 출력"
   ]
  },
  {
   "cell_type": "markdown",
   "metadata": {},
   "source": [
    "    <설명> \n",
    "      리스트를 이용하여 c에 저장되어있는 'Hello'의 문자의 읽어들이는 순서를 바꾸어 다시 c에 저장해 출력한다."
   ]
  },
  {
   "cell_type": "markdown",
   "metadata": {},
   "source": [
    "## 4번문제"
   ]
  },
  {
   "cell_type": "markdown",
   "metadata": {},
   "source": [
    " - s=\"python\"에 대해 다음 문제를 풀어보시오.\n",
    "  1. s[0], s[0][0], s[0][0][0]은 각각 어떤 값이 나오는지 확인하고 그 이유를 나름대로 설명해 보시오.\n",
    "  2. s[-100], s[100]은 값이 나오는지 에러가 나오는지 확인하고 그 결과에 대한 이유를 나름대로 설명해 보시오\n",
    "  3. s[-100, 100]은 값이 나오는지 에러가 나오는지 확인하고 그 결과에 대한 이유를 나름대로 설명해 보시오.\n",
    "  4. s[1:-1]의 결과를 확인하고 그 결과에 대한 이유를 정확하게 설명하시오.\n",
    "  5. s[3:-3]의 결과를 확인하고 그 결과에 대한 이유를 정확하게 설명하시오."
   ]
  },
  {
   "cell_type": "code",
   "execution_count": 41,
   "metadata": {},
   "outputs": [
    {
     "name": "stdout",
     "output_type": "stream",
     "text": [
      "p p p\n"
     ]
    }
   ],
   "source": [
    "s = 'python'  #s에 문자열 저장\n",
    "print(s[0],s[0][0],s[0][0][0])  #첫항 출력"
   ]
  },
  {
   "cell_type": "markdown",
   "metadata": {},
   "source": [
    "    <1번 설명 및 이유> \n",
    "     3가지 경우의 괄호 안에 다른 숫자들을 넣어본 결과 2차나 3차원 배열에서 첫번째괄호를 제외한 나머지에 다른 숫자가 오면 error가 남을 알 수 있었고 첫번째 괄호를 통해 다른 문자를 출력할수 있있다. 결론적으론 1차든 2차든 3차든 다 0이면 첫번째 항을 의미하기 때문에 'p'가 출력된다."
   ]
  },
  {
   "cell_type": "code",
   "execution_count": 39,
   "metadata": {},
   "outputs": [
    {
     "ename": "IndexError",
     "evalue": "string index out of range",
     "output_type": "error",
     "traceback": [
      "\u001b[1;31m---------------------------------------------------------------------------\u001b[0m",
      "\u001b[1;31mIndexError\u001b[0m                                Traceback (most recent call last)",
      "\u001b[1;32m<ipython-input-39-c8e07d604b2c>\u001b[0m in \u001b[0;36m<module>\u001b[1;34m()\u001b[0m\n\u001b[0;32m      1\u001b[0m \u001b[0ms\u001b[0m \u001b[1;33m=\u001b[0m \u001b[1;34m'python'\u001b[0m\u001b[1;33m\u001b[0m\u001b[0m\n\u001b[1;32m----> 2\u001b[1;33m \u001b[0mprint\u001b[0m\u001b[1;33m(\u001b[0m\u001b[0ms\u001b[0m\u001b[1;33m[\u001b[0m\u001b[1;33m-\u001b[0m\u001b[1;36m100\u001b[0m\u001b[1;33m]\u001b[0m\u001b[1;33m,\u001b[0m \u001b[0ms\u001b[0m\u001b[1;33m[\u001b[0m\u001b[1;36m100\u001b[0m\u001b[1;33m]\u001b[0m\u001b[1;33m)\u001b[0m\u001b[1;33m\u001b[0m\u001b[0m\n\u001b[0m",
      "\u001b[1;31mIndexError\u001b[0m: string index out of range"
     ]
    }
   ],
   "source": [
    "print(s[-100], s[100])"
   ]
  },
  {
   "cell_type": "markdown",
   "metadata": {},
   "source": [
    "    <2번 설명 및 이유>\n",
    "      s에는 index가 0부터 5까지 채워져 있다. -100 이나 100은 index에서 벗어나므로 오류가 발생한다."
   ]
  },
  {
   "cell_type": "code",
   "execution_count": 42,
   "metadata": {},
   "outputs": [
    {
     "ename": "TypeError",
     "evalue": "string indices must be integers",
     "output_type": "error",
     "traceback": [
      "\u001b[1;31m---------------------------------------------------------------------------\u001b[0m",
      "\u001b[1;31mTypeError\u001b[0m                                 Traceback (most recent call last)",
      "\u001b[1;32m<ipython-input-42-42241aebb09e>\u001b[0m in \u001b[0;36m<module>\u001b[1;34m()\u001b[0m\n\u001b[1;32m----> 1\u001b[1;33m \u001b[0mprint\u001b[0m\u001b[1;33m(\u001b[0m\u001b[0ms\u001b[0m\u001b[1;33m[\u001b[0m\u001b[1;33m-\u001b[0m\u001b[1;36m100\u001b[0m\u001b[1;33m,\u001b[0m\u001b[1;36m100\u001b[0m\u001b[1;33m]\u001b[0m\u001b[1;33m)\u001b[0m\u001b[1;33m\u001b[0m\u001b[0m\n\u001b[0m",
      "\u001b[1;31mTypeError\u001b[0m: string indices must be integers"
     ]
    }
   ],
   "source": [
    "print(s[-100,100])"
   ]
  },
  {
   "cell_type": "markdown",
   "metadata": {},
   "source": [
    "    <3번 설명 및 이유>\n",
    "      3번 또한 -100 이나 100은 인데스에서 벗어날 뿐더러 index에는 정수만 들어가야 하므로 오류가 발생한다."
   ]
  },
  {
   "cell_type": "code",
   "execution_count": 43,
   "metadata": {},
   "outputs": [
    {
     "name": "stdout",
     "output_type": "stream",
     "text": [
      "ytho\n"
     ]
    }
   ],
   "source": [
    "print(s[1:-1])"
   ]
  },
  {
   "cell_type": "markdown",
   "metadata": {},
   "source": [
    "    <4번 설명 및 이유>\n",
    "     index 1부터 -1 까지 출력하라고 했는데 -1은 거꾸로 가게 되므로 결국 index 5 자리로 가게 된다. 따라서 index 1부터 5전까지 출력된다."
   ]
  },
  {
   "cell_type": "code",
   "execution_count": 46,
   "metadata": {},
   "outputs": [
    {
     "name": "stdout",
     "output_type": "stream",
     "text": [
      "\n"
     ]
    }
   ],
   "source": [
    "print(s[3:-3])"
   ]
  },
  {
   "cell_type": "markdown",
   "metadata": {},
   "source": [
    "    <5번 설명 및 이유>\n",
    "     s[3]이 h이고 s[-3]도 h 이기 때문에  범위에 포함되는 문자는 없다. 따라서 결과는 아무것도 출력되지 않게 된다. "
   ]
  },
  {
   "cell_type": "markdown",
   "metadata": {
    "collapsed": true
   },
   "source": [
    "## 5번문제"
   ]
  },
  {
   "cell_type": "markdown",
   "metadata": {},
   "source": [
    " - for 문을 활용하여 1부터 100사이의 홀수를 출력하시오."
   ]
  },
  {
   "cell_type": "code",
   "execution_count": 19,
   "metadata": {},
   "outputs": [
    {
     "name": "stdout",
     "output_type": "stream",
     "text": [
      "1 3 5 7 9 11 13 15 17 19 21 23 25 27 29 31 33 35 37 39 41 43 45 47 49 51 53 55 57 59 61 63 65 67 69 71 73 75 77 79 81 83 85 87 89 91 93 95 97 99 "
     ]
    }
   ],
   "source": [
    "for x in range(1, 101):    #1부터 100까지 반복\n",
    "    if x % 2 ==0:          #2로 나눠지지 않으면 건너뜀\n",
    "        continue\n",
    "    print(x,end=\" \")       #홀수일 때만 출력"
   ]
  },
  {
   "cell_type": "markdown",
   "metadata": {},
   "source": [
    "    <설명> \n",
    "      for문안에 1부터100사이로 범위를 두고 if문을 이용하여 짝수가 나올때마다 건너 뛰게 하여 홀수만을 출력한다.  "
   ]
  },
  {
   "cell_type": "markdown",
   "metadata": {},
   "source": [
    "## 6번문제"
   ]
  },
  {
   "cell_type": "markdown",
   "metadata": {},
   "source": [
    " - while문을 활용하여 1부터 100사이의 짝수의 합을 계산하여 출력하시오."
   ]
  },
  {
   "cell_type": "code",
   "execution_count": 1,
   "metadata": {},
   "outputs": [
    {
     "name": "stdout",
     "output_type": "stream",
     "text": [
      "2550\n"
     ]
    }
   ],
   "source": [
    "sum = 0                  #합 초기화\n",
    "count = 0                # 횟수 초기화\n",
    "while(count <100):      #100까지 반복\n",
    "    count = count +2    #짝수 일때만 계산\n",
    "    sum = sum + count   #sum에 짝수를 계속 더함\n",
    "print(sum)            # 합 출력"
   ]
  },
  {
   "cell_type": "markdown",
   "metadata": {},
   "source": [
    "    <설명> \n",
    "      합과 반복횟수를 나타내는 변수를 선언하고 1부터 100까지 범위로 반복문을 돌린 후 count에 2씩 더해줘서 sum에 짝수만 더해지도록 하여 결과를 출력한다."
   ]
  },
  {
   "cell_type": "markdown",
   "metadata": {},
   "source": [
    "## 7번문제"
   ]
  },
  {
   "cell_type": "markdown",
   "metadata": {},
   "source": [
    " - 사용자로 부터 임의의 정수를 입력받고, 해당 숫자를 역순으로 출력하는 프로그램을 작성하시오."
   ]
  },
  {
   "cell_type": "code",
   "execution_count": 28,
   "metadata": {},
   "outputs": [
    {
     "name": "stdout",
     "output_type": "stream",
     "text": [
      "정수를 입력하시오:3125\n",
      "숫자의 역순은 5213입니다.\n"
     ]
    }
   ],
   "source": [
    "print(\"정수를 입력하시오:\", end=\"\")       \n",
    "a=input()                                         #원하는 정수 입력\n",
    "print(\"숫자의 역순은 \" + a[len(a)::-1] + \"입니다.\")     #입력한 정수의 끝부터 거꾸로 출력"
   ]
  },
  {
   "cell_type": "markdown",
   "metadata": {},
   "source": [
    "    <설명> \n",
    "      input함수를 이용하여 a에 저장하고 숫자의 길이를 len으로 구하여 list에 대입해 역순으로 출력한다."
   ]
  },
  {
   "cell_type": "markdown",
   "metadata": {},
   "source": [
    "## 8번문제"
   ]
  },
  {
   "cell_type": "markdown",
   "metadata": {},
   "source": [
    " - 사용자로 부터 정수를 입력받아서 1부터 그 사이에 존재하는 소수 (Prime number)를 출력하는 파이썬 프로그램을 작성하시오."
   ]
  },
  {
   "cell_type": "code",
   "execution_count": 1,
   "metadata": {},
   "outputs": [
    {
     "name": "stdout",
     "output_type": "stream",
     "text": [
      "정수를 입력하시오:101\n",
      "입력된 정수까지의 소수 : 2 3 5 7 11 13 17 19 23 29 31 37 41 43 47 53 59 61 67 71 73 79 83 89 97 "
     ]
    }
   ],
   "source": [
    "x=0             #반복횟수\n",
    "y=1             #소수를 판단하기 위해 나누는 수\n",
    "cnt =0          #소수임을 판펼하는 변수\n",
    "print(\"정수를 입력하시오:\", end=\"\") \n",
    "a=int(input())              #원하는 변수 입력\n",
    "print(\"입력된 정수까지의 소수 :\", end=\" \")\n",
    "while x < a-1:               #입력한 숫자까지 반복\n",
    "    x = x+1                 \n",
    "    for y in range(1,x+1):    \n",
    "        if x % y == 0:      # 1씩 증가하는 수를 1부터 그 수까지 나누어서 나온 나머지가 0이 되면 카운트를 늘림\n",
    "            cnt = cnt +1\n",
    "    if cnt == 2:    #나머지가 0이 되어 늘어난 카운트가 2가 되면 소수로 인정하여 출력한다.\n",
    "        print(x, end = \" \")\n",
    "    cnt = 0   #판별이 끝나면 카운트는 0으로 초기화"
   ]
  },
  {
   "cell_type": "markdown",
   "metadata": {},
   "source": [
    "    <설명> \n",
    "      원하는 정수를 입력받고 반복문을 1부터 입력한 숫자 전까지 돌린다. 그 숫자를 x에 저장하고 x를 1부터 x까지 한번씩 나누어서 나머지가 0이 되는 수가 2개가 나오면 소수로 인식하고 출력되도록 한다."
   ]
  },
  {
   "cell_type": "markdown",
   "metadata": {},
   "source": [
    "## [ACM-ICPC 문제 2439번]\n",
    " ### 별찍기-2"
   ]
  },
  {
   "cell_type": "markdown",
   "metadata": {},
   "source": [
    " - 첫째 줄에는 별 1개, 둘째 줄에는 별 2개, N번째 줄에는 별 N개를 찍는 문제.  하지만, 오른쪽을 기준으로 정렬한 별 (예제 참고)을 출력하시오."
   ]
  },
  {
   "cell_type": "code",
   "execution_count": 28,
   "metadata": {},
   "outputs": [
    {
     "name": "stdout",
     "output_type": "stream",
     "text": [
      "5\n",
      "    *\n",
      "   **\n",
      "  ***\n",
      " ****\n",
      "*****\n",
      "\n"
     ]
    }
   ],
   "source": [
    "N =int(input())   #별 얼마나 출력할지 입력\n",
    "for x in range(1,N+1):  #입력한 수까지 반복\n",
    "    print(\" \"*(N-x), end=\"\")  #오른쪽 정렬을 위해 공백 출력\n",
    "    print(\"*\"*x)             #가장 오른쪽부터 라인수 만큼 별 출력\n",
    "print(\"\")                #출력이 끝나면 줄바꿈"
   ]
  },
  {
   "cell_type": "markdown",
   "metadata": {},
   "source": [
    "    <설명>\n",
    "     input으로 라인 수를 입력받고 반복문을 돌린다. 공백을 이용해서 오른쪽 정렬을 하고 그 라인수 만큼 가장 오른쪽부터 별을 출력한다."
   ]
  },
  {
   "cell_type": "markdown",
   "metadata": {},
   "source": [
    " <img src = \"별 찍기.png\" >"
   ]
  },
  {
   "cell_type": "markdown",
   "metadata": {
    "collapsed": true
   },
   "source": [
    "## [ACM-ICPC 문제 1924번]\n",
    "### 2007년"
   ]
  },
  {
   "cell_type": "markdown",
   "metadata": {},
   "source": [
    "  - 오늘은 2007년 1월 1일 월요일이다. 그렇다면 2007년 x월 y일은 무슨 요일일까? 이를 알아내는 프로그램을 작성하시오."
   ]
  },
  {
   "cell_type": "code",
   "execution_count": 11,
   "metadata": {},
   "outputs": [
    {
     "name": "stdout",
     "output_type": "stream",
     "text": [
      "3 1\n",
      "THU\n"
     ]
    }
   ],
   "source": [
    "day = 0    #날짜 변수 초기화\n",
    "x, y = map(int,input().split())    #월과 일을 입력 받는다.\n",
    "for i in range(1, x):               #입력받은 달의 전달까지 반복\n",
    "    if i==1 or i==3 or i==5 or i ==7 or i==8 or i ==10 or i ==12:   #각 달에 맞는 일수를 계속 더함\n",
    "        day = day + 31\n",
    "    elif i==4 or i ==6 or i ==9 or i ==11:\n",
    "        day = day + 30\n",
    "    else:\n",
    "        day = day + 28\n",
    "day = day + y    #입력한 날짜에 대한 총 일수를 더한다.\n",
    "if day % 7 == 1:   #총 일수를 7로 나누고 나온 나머지에 대한 값들에 따라 요일을 출력\n",
    "    print(\"MON\")\n",
    "elif day % 7 == 2:\n",
    "    print(\"TUE\")\n",
    "elif day % 7 == 3:\n",
    "    print(\"WED\")\n",
    "elif day % 7 == 4:\n",
    "    print(\"THU\")\n",
    "elif day % 7 == 5:\n",
    "    print(\"FRI\")\n",
    "elif day % 7 == 6:\n",
    "    print(\"SAT\")\n",
    "else:\n",
    "    print(\"SUN\")"
   ]
  },
  {
   "cell_type": "markdown",
   "metadata": {},
   "source": [
    "    <설명> map을 이용하여 월과 일을 중간에 간격을 주고 입력받는다. 입력받은 달의 전달까지의 모든 일수를 더하고 입력한 일수를 추가로 더한다. 그리고 총 일수를 7로 나누어 각각 해당하는 나머지 값에 요일을 출력하도록 한다."
   ]
  },
  {
   "cell_type": "markdown",
   "metadata": {
    "collapsed": true
   },
   "source": [
    " <img src = \"2007년 달력.png\" >"
   ]
  },
  {
   "cell_type": "markdown",
   "metadata": {},
   "source": [
    "## [ACM-ICPC 문제 11720번]\n",
    "### 숫자의 합"
   ]
  },
  {
   "cell_type": "markdown",
   "metadata": {},
   "source": [
    " - N개의 숫자가 공백 없이 쓰여있다. 이 숫자를 모두 합해서 출력하는 프로그램을 작성하시오."
   ]
  },
  {
   "cell_type": "code",
   "execution_count": 19,
   "metadata": {},
   "outputs": [
    {
     "name": "stdout",
     "output_type": "stream",
     "text": [
      "5\n",
      "54321\n",
      "15\n"
     ]
    }
   ],
   "source": [
    "sum =0    #합 변수 초기화\n",
    "number = int(input())  # 입력할 숫자의 개수를 입력한다.\n",
    "N = input()  #공백없이 숫자 입력\n",
    "for i in range(0, len(N)): #입력한 숫자 범위까지 반복해서 모든 숫자의 합을 구함\n",
    "    sum = sum + int(N[i])\n",
    "print(sum)    #합 출력"
   ]
  },
  {
   "cell_type": "markdown",
   "metadata": {},
   "source": [
    "    <설명> 입력할 숫자의 갯수를 입력하고 그 숫자만큼 수들을 입력한다. 후에 입력한 수들을 모두 합하여 값을 출력한다."
   ]
  },
  {
   "cell_type": "markdown",
   "metadata": {
    "collapsed": true
   },
   "source": [
    " <img src = \"숫자합.png\" >"
   ]
  },
  {
   "cell_type": "markdown",
   "metadata": {},
   "source": [
    "## <느낀점>"
   ]
  },
  {
   "cell_type": "markdown",
   "metadata": {},
   "source": [
    "   - 처음으로 jupyter note을 이용하여 보고서를 작성하면서 새로운 경험을 할 수 있었고 방법을 몰라서 하나하나 찾아보느라 시간이 오래 걸렸습니다. 확실히 java나 c++ 같은 문법과는 코딩하기 편하게 되어있어서 좋았고 다른 수업과 같이 들어서 그런지 생소한 문법도 많았고 다른 프로그래밍 문법과 섞이게 되어서 헷갈리는 것이 많았습니다. 배웠던 방법들을 문제에 응용할 수 있어서 많은 공부가 되었고 BAEK JOON이라는 사이트를 처음 알게 되었는데 활용을 잘 하면 공부에 많은 도움이 될 것 같습니다."
   ]
  }
 ],
 "metadata": {
  "kernelspec": {
   "display_name": "Python 3",
   "language": "python",
   "name": "python3"
  },
  "language_info": {
   "codemirror_mode": {
    "name": "ipython",
    "version": 3
   },
   "file_extension": ".py",
   "mimetype": "text/x-python",
   "name": "python",
   "nbconvert_exporter": "python",
   "pygments_lexer": "ipython3",
   "version": "3.6.1"
  }
 },
 "nbformat": 4,
 "nbformat_minor": 2
}
